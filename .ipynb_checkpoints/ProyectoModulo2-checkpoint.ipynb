{
 "cells": [
  {
   "cell_type": "code",
   "execution_count": 3,
   "metadata": {},
   "outputs": [],
   "source": [
    "import numpy as np\n",
    "import random\n",
    "import matplotlib.pyplot as plt\n",
    "%matplotlib inline"
   ]
  },
  {
   "cell_type": "code",
   "execution_count": 46,
   "metadata": {},
   "outputs": [],
   "source": [
    "def TragaMonedas():\n",
    "    lista = [\"diamante\",\"campana\",\"trebol\",\"BAR\"]\n",
    "\n",
    "    a = random.choices(lista)\n",
    "    b = random.choices(lista)\n",
    "    c = random.choices(lista)\n",
    "    d = random.choices(lista)\n",
    "    e = random.choices(lista)\n",
    "    f = random.choices(lista)\n",
    "\n",
    "    return a,b,c,d,e,f"
   ]
  },
  {
   "cell_type": "code",
   "execution_count": 47,
   "metadata": {},
   "outputs": [
    {
     "name": "stdout",
     "output_type": "stream",
     "text": [
      "(['campana'], ['BAR'], ['BAR'], ['diamante'], ['BAR'], ['campana']) \n",
      "\n",
      "(['trebol'], ['trebol'], ['trebol'], ['BAR'], ['campana'], ['trebol']) \n",
      "\n",
      "(['campana'], ['trebol'], ['trebol'], ['BAR'], ['campana'], ['campana']) \n",
      "\n",
      "(['trebol'], ['campana'], ['trebol'], ['trebol'], ['campana'], ['trebol']) \n",
      "\n",
      "(['trebol'], ['campana'], ['campana'], ['campana'], ['BAR'], ['diamante']) \n",
      "\n",
      "(['diamante'], ['campana'], ['BAR'], ['diamante'], ['campana'], ['diamante']) \n",
      "\n",
      "(['diamante'], ['campana'], ['campana'], ['campana'], ['BAR'], ['diamante']) \n",
      "\n",
      "(['campana'], ['trebol'], ['diamante'], ['campana'], ['diamante'], ['diamante']) \n",
      "\n",
      "(['diamante'], ['campana'], ['BAR'], ['trebol'], ['BAR'], ['diamante']) \n",
      "\n",
      "(['diamante'], ['BAR'], ['trebol'], ['trebol'], ['diamante'], ['trebol']) \n",
      "\n"
     ]
    }
   ],
   "source": [
    "for i in range(10):\n",
    "    print (TragaMonedas(),'\\n')"
   ]
  },
  {
   "cell_type": "code",
   "execution_count": 52,
   "metadata": {},
   "outputs": [
    {
     "ename": "SyntaxError",
     "evalue": "invalid syntax (<ipython-input-52-3af9873cd862>, line 26)",
     "output_type": "error",
     "traceback": [
      "\u001b[1;36m  File \u001b[1;32m\"<ipython-input-52-3af9873cd862>\"\u001b[1;36m, line \u001b[1;32m26\u001b[0m\n\u001b[1;33m    elif:\u001b[0m\n\u001b[1;37m       ^\u001b[0m\n\u001b[1;31mSyntaxError\u001b[0m\u001b[1;31m:\u001b[0m invalid syntax\n"
     ]
    }
   ],
   "source": [
    " def juego():\n",
    "    a,b,c,d,e,f= TragaMonedas()\n",
    "    if (a==e and a==c):\n",
    "        return True\n",
    "    else:\n",
    "        if (d==b and d==f):\n",
    "            return True\n",
    "        else:\n",
    "            if (a==b and a==c and a==d and a==e and a==f):\n",
    "                return True\n",
    "            else:\n",
    "                if (d==b and d==e and d==c):\n",
    "                    return True\n",
    "                else: \n",
    "                    if (a==d and a==b and a==f and a==c):\n",
    "                        return True\n",
    "                    else: \n",
    "                        if (d==e and d==b and d==c):\n",
    "                            return True\n",
    "                        else:\n",
    "                            if(a==b and a==e and a==f):\n",
    "                                return True\n",
    "                            else:\n",
    "                                if(d==a and d==e and d==c and d==f):\n",
    "                                    return True\n",
    "    else:\n",
    "        return False\n",
    "        "
   ]
  },
  {
   "cell_type": "markdown",
   "metadata": {},
   "source": [
    "hols\n"
   ]
  },
  {
   "cell_type": "code",
   "execution_count": null,
   "metadata": {},
   "outputs": [],
   "source": []
  }
 ],
 "metadata": {
  "kernelspec": {
   "display_name": "Python 3",
   "language": "python",
   "name": "python3"
  },
  "language_info": {
   "codemirror_mode": {
    "name": "ipython",
    "version": 3
   },
   "file_extension": ".py",
   "mimetype": "text/x-python",
   "name": "python",
   "nbconvert_exporter": "python",
   "pygments_lexer": "ipython3",
   "version": "3.7.3"
  }
 },
 "nbformat": 4,
 "nbformat_minor": 2
}
